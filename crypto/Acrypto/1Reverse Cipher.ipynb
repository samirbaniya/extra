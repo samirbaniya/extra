{
 "cells": [
  {
   "cell_type": "code",
   "execution_count": 10,
   "id": "a716b73b",
   "metadata": {},
   "outputs": [
    {
     "name": "stdout",
     "output_type": "stream",
     "text": [
      "Input your message: hello\n",
      "Revers cipher of message is:  o\n",
      "Revers cipher of message is:  ol\n",
      "Revers cipher of message is:  oll\n",
      "Revers cipher of message is:  olle\n",
      "Revers cipher of message is:  olleh\n"
     ]
    }
   ],
   "source": [
    "# Reverse Cipher\n",
    "msg = input(\"Input your message: \")\n",
    "n = len(msg)\n",
    "reverse_msg = ''\n",
    "i = n- 1\n",
    "while (i >= 0):\n",
    " reverse_msg = reverse_msg + msg[i]\n",
    " i = i-1\n",
    " print(\"Revers cipher of message is: \", reverse_msg)"
   ]
  },
  {
   "cell_type": "code",
   "execution_count": null,
   "id": "c25ed3a0",
   "metadata": {},
   "outputs": [],
   "source": []
  }
 ],
 "metadata": {
  "kernelspec": {
   "display_name": "Python 3 (ipykernel)",
   "language": "python",
   "name": "python3"
  },
  "language_info": {
   "codemirror_mode": {
    "name": "ipython",
    "version": 3
   },
   "file_extension": ".py",
   "mimetype": "text/x-python",
   "name": "python",
   "nbconvert_exporter": "python",
   "pygments_lexer": "ipython3",
   "version": "3.11.4"
  }
 },
 "nbformat": 4,
 "nbformat_minor": 5
}

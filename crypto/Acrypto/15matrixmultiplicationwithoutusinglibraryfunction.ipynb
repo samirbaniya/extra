{
 "cells": [
  {
   "cell_type": "code",
   "execution_count": 1,
   "id": "d86842d3",
   "metadata": {},
   "outputs": [
    {
     "name": "stdout",
     "output_type": "stream",
     "text": [
      "Result of Matrix Multiplication:\n",
      "[58, 64]\n",
      "[139, 154]\n"
     ]
    }
   ],
   "source": [
    "import numpy as np\n",
    "\n",
    "# Set the desired number of decimal places globally for matrix value display\n",
    "np.set_printoptions(precision=2)\n",
    "\n",
    "# Define two matrices as 2D lists\n",
    "matrix1 = [[1, 2, 3],\n",
    "           [4, 5, 6]]\n",
    "\n",
    "matrix2 = [[7, 8],\n",
    "           [9, 10],\n",
    "           [11, 12]]\n",
    "\n",
    "# Determine the dimensions of the matrices\n",
    "rows1 = len(matrix1)\n",
    "cols1 = len(matrix1[0])\n",
    "rows2 = len(matrix2)\n",
    "cols2 = len(matrix2[0])\n",
    "\n",
    "# Check if matrix multiplication is possible\n",
    "if cols1 != rows2:\n",
    "    print(\"Matrix multiplication is not possible. Number of columns in matrix1 must be equal to the number of rows in matrix2.\")\n",
    "else:\n",
    "    # Create an empty result matrix\n",
    "    result = [[0 for _ in range(cols2)] for _ in range(rows1)]\n",
    "\n",
    "    # Perform matrix multiplication using nested loops\n",
    "    for i in range(rows1):\n",
    "        for j in range(cols2):\n",
    "            for k in range(cols1):\n",
    "                result[i][j] += matrix1[i][k] * matrix2[k][j]\n",
    "\n",
    "    # Print the result\n",
    "    print(\"Result of Matrix Multiplication:\")\n",
    "    for row in result:\n",
    "        print(row)\n"
   ]
  }
 ],
 "metadata": {
  "kernelspec": {
   "display_name": "Python 3 (ipykernel)",
   "language": "python",
   "name": "python3"
  },
  "language_info": {
   "codemirror_mode": {
    "name": "ipython",
    "version": 3
   },
   "file_extension": ".py",
   "mimetype": "text/x-python",
   "name": "python",
   "nbconvert_exporter": "python",
   "pygments_lexer": "ipython3",
   "version": "3.11.4"
  }
 },
 "nbformat": 4,
 "nbformat_minor": 5
}

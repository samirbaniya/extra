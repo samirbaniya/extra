{
 "cells": [
  {
   "cell_type": "code",
   "execution_count": 1,
   "id": "42b03534",
   "metadata": {},
   "outputs": [
    {
     "name": "stdout",
     "output_type": "stream",
     "text": [
      "Matrix is:\n",
      "\n",
      "[5, 10]\n",
      "[9, 7]\n",
      "Determinant is:  -55\n",
      "Inverse Matrix:\n",
      "[-0.12727272727272726, 0.18181818181818182]\n",
      "[0.16363636363636364, -0.09090909090909091]\n"
     ]
    }
   ],
   "source": [
    "'''\n",
    "# 2 by 2 matrix\n",
    "# inverse is given\n",
    "1 / (ad-bc) * | d -b |\n",
    "|-c a |\n",
    "'''\n",
    "\n",
    "import numpy as np\n",
    "\n",
    "# Define your 2x2 matrix as nested lists\n",
    "matrix = [[5, 10],\n",
    "          [9, 7]]\n",
    "\n",
    "a = matrix[0][0]\n",
    "b = matrix[0][1]\n",
    "c = matrix[1][0]\n",
    "d = matrix[1][1]\n",
    "\n",
    "# Calculate the determinant\n",
    "det = a * d - b * c\n",
    "\n",
    "print(\"Matrix is:\\n\")\n",
    "for row in matrix:\n",
    "    print(row)\n",
    "\n",
    "print(\"Determinant is: \", det)\n",
    "\n",
    "# Check if the determinant is zero (matrix is singular)\n",
    "if det == 0:\n",
    "    print(\"The matrix is singular, and its inverse does not exist.\")\n",
    "else:\n",
    "    # Calculate the inverse\n",
    "    inverse = [[d / det, -b / det],\n",
    "               [-c / det, a / det]]\n",
    "\n",
    "    # Print the inverse matrix\n",
    "    print(\"Inverse Matrix:\")\n",
    "    for row in inverse:\n",
    "        print(row)\n"
   ]
  }
 ],
 "metadata": {
  "kernelspec": {
   "display_name": "Python 3 (ipykernel)",
   "language": "python",
   "name": "python3"
  },
  "language_info": {
   "codemirror_mode": {
    "name": "ipython",
    "version": 3
   },
   "file_extension": ".py",
   "mimetype": "text/x-python",
   "name": "python",
   "nbconvert_exporter": "python",
   "pygments_lexer": "ipython3",
   "version": "3.11.4"
  }
 },
 "nbformat": 4,
 "nbformat_minor": 5
}

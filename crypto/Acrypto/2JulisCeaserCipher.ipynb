{
 "cells": [
  {
   "cell_type": "code",
   "execution_count": 6,
   "id": "efee7258",
   "metadata": {},
   "outputs": [
    {
     "name": "stdout",
     "output_type": "stream",
     "text": [
      "Lenght of alpha: 26\n",
      "Enter a word, like HELLO:HELLO\n",
      "str_in =  HELLO\n",
      "n = 5\n",
      "0 H 7\n",
      "1 E 4\n",
      "2 L 11\n",
      "3 L 11\n",
      "4 O 14\n",
      "Plain text:  HELLO\n",
      "Cipher text:   KHOOR\n"
     ]
    }
   ],
   "source": [
    "alpha =\"ABCDEFGHIJKLMNOPQRSTUVWXYZ\"\n",
    "print(\"Lenght of alpha: {}\".format(len(alpha)))\n",
    "# input in capitalize\n",
    "str_in = input(\"Enter a word, like HELLO:\")\n",
    "print(\"str_in = \", str_in)\n",
    "msg_cipher = \" \"\n",
    "n = len(str_in)\n",
    "print(\"n =\", n)\n",
    "\n",
    "for i in range(n):\n",
    " c = str_in[i]\n",
    " loc = alpha.find(c)\n",
    " print(i , c, loc) #This line can be omitted, used only to see intermediate result\n",
    " newloc = (loc+3)% 26\n",
    " msg_cipher += alpha[newloc]\n",
    "\n",
    "print(\"Plain text: \", str_in)\n",
    "print(\"Cipher text: \", msg_cipher)"
   ]
  }
 ],
 "metadata": {
  "kernelspec": {
   "display_name": "Python 3 (ipykernel)",
   "language": "python",
   "name": "python3"
  },
  "language_info": {
   "codemirror_mode": {
    "name": "ipython",
    "version": 3
   },
   "file_extension": ".py",
   "mimetype": "text/x-python",
   "name": "python",
   "nbconvert_exporter": "python",
   "pygments_lexer": "ipython3",
   "version": "3.11.4"
  }
 },
 "nbformat": 4,
 "nbformat_minor": 5
}

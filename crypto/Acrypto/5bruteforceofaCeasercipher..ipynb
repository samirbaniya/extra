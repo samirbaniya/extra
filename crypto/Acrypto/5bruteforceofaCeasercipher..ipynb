{
 "cells": [
  {
   "cell_type": "code",
   "execution_count": 1,
   "id": "d81d50af",
   "metadata": {},
   "outputs": [
    {
     "name": "stdout",
     "output_type": "stream",
     "text": [
      "Shift 0: ZRUOG\n",
      "Shift 1: YQTNF\n",
      "Shift 2: XPSME\n",
      "Shift 3: WORLD\n",
      "Shift 4: VNQKC\n",
      "Shift 5: UMPJB\n",
      "Shift 6: TLOIA\n",
      "Shift 7: SKNHZ\n",
      "Shift 8: RJMGY\n",
      "Shift 9: QILFX\n",
      "Shift 10: PHKEW\n",
      "Shift 11: OGJDV\n",
      "Shift 12: NFICU\n",
      "Shift 13: MEHBT\n",
      "Shift 14: LDGAS\n",
      "Shift 15: KCFZR\n",
      "Shift 16: JBEYQ\n",
      "Shift 17: IADXP\n",
      "Shift 18: HZCWO\n",
      "Shift 19: GYBVN\n",
      "Shift 20: FXAUM\n",
      "Shift 21: EWZTL\n",
      "Shift 22: DVYSK\n",
      "Shift 23: CUXRJ\n",
      "Shift 24: BTWQI\n",
      "Shift 25: ASVPH\n"
     ]
    }
   ],
   "source": [
    "alpha = \"ABCDEFGHIJKLMNOPQRSTUVWXYZ\"\n",
    "\n",
    "def ceasar_decryption(encrypted_text, shift):\n",
    "    decrypted_text = ''\n",
    "    n = len(encrypted_text)\n",
    "    for i in range(n):\n",
    "        c = encrypted_text[i]\n",
    "        loc = alpha.find(c)\n",
    "        newloc = (loc - shift) % 26\n",
    "        decrypted_text += alpha[newloc]\n",
    "    return decrypted_text\n",
    "\n",
    "def caesar_brute_force(ciphertext):\n",
    "    for shift in range(26):\n",
    "        decrypted_text = ceasar_decryption(ciphertext, shift)\n",
    "        print(f\"Shift {shift}: {decrypted_text}\")\n",
    "\n",
    "# Example usage\n",
    "ciphertext = 'ZRUOG'\n",
    "caesar_brute_force(ciphertext)\n"
   ]
  },
  {
   "cell_type": "code",
   "execution_count": null,
   "id": "908542e4",
   "metadata": {},
   "outputs": [],
   "source": []
  }
 ],
 "metadata": {
  "kernelspec": {
   "display_name": "Python 3 (ipykernel)",
   "language": "python",
   "name": "python3"
  },
  "language_info": {
   "codemirror_mode": {
    "name": "ipython",
    "version": 3
   },
   "file_extension": ".py",
   "mimetype": "text/x-python",
   "name": "python",
   "nbconvert_exporter": "python",
   "pygments_lexer": "ipython3",
   "version": "3.11.4"
  }
 },
 "nbformat": 4,
 "nbformat_minor": 5
}

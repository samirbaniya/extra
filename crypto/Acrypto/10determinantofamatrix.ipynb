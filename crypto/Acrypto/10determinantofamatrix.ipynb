{
 "cells": [
  {
   "cell_type": "code",
   "execution_count": 20,
   "id": "b319c6c8",
   "metadata": {},
   "outputs": [
    {
     "name": "stdout",
     "output_type": "stream",
     "text": [
      "Determinant of a matrix:\n",
      " 441\n",
      "Inverse of a matrix:\n",
      " [[ 0.15873016 -0.77777778  0.50793651]\n",
      " [ 0.01133787  0.15873016 -0.10657596]\n",
      " [-0.2244898   0.85714286 -0.48979592]]\n"
     ]
    }
   ],
   "source": [
    "import numpy as np\n",
    "\n",
    "# Define your matrix as a 2D NumPy array\n",
    "# matrix = np.array([[2, 3, 1],\n",
    "# [4, 1, 7],\n",
    "# [0, 5, 2]])\n",
    "\n",
    "matrix = np.array([[6, 24, 1],\n",
    "                   [13, 16, 10],\n",
    "                   [20, 17, 15]])\n",
    "\n",
    "def determinant_matrix(matrix):\n",
    "    # Calculate the determinant using the formula\n",
    "    det = (matrix[0, 0] * (matrix[1, 1] * matrix[2, 2] - matrix[1, 2] * matrix[2, 1]) -\n",
    "           matrix[0, 1] * (matrix[1, 0] * matrix[2, 2] - matrix[1, 2] * matrix[2, 0]) +\n",
    "           matrix[0, 2] * (matrix[1, 0] * matrix[2, 1] - matrix[1, 1] * matrix[2, 0]))\n",
    "\n",
    "    return det\n",
    "\n",
    "def inverse_matrix(matrix):\n",
    "    # Use the np.linalg.inv() function to find the inverse\n",
    "    inverse_matrix = np.linalg.inv(matrix)\n",
    "    return inverse_matrix\n",
    "\n",
    "# Print the determinant\n",
    "print(\"Determinant of a matrix:\\n\", determinant_matrix(matrix))\n",
    "\n",
    "# Print the inverse matrix\n",
    "inv_matrix = inverse_matrix(matrix)\n",
    "print(\"Inverse of a matrix:\\n\", inv_matrix)"
   ]
  }
 ],
 "metadata": {
  "kernelspec": {
   "display_name": "Python 3 (ipykernel)",
   "language": "python",
   "name": "python3"
  },
  "language_info": {
   "codemirror_mode": {
    "name": "ipython",
    "version": 3
   },
   "file_extension": ".py",
   "mimetype": "text/x-python",
   "name": "python",
   "nbconvert_exporter": "python",
   "pygments_lexer": "ipython3",
   "version": "3.11.4"
  }
 },
 "nbformat": 4,
 "nbformat_minor": 5
}

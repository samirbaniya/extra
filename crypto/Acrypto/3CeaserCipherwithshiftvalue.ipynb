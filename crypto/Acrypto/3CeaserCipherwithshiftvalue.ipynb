{
 "cells": [
  {
   "cell_type": "code",
   "execution_count": 3,
   "id": "e41faee1",
   "metadata": {},
   "outputs": [
    {
     "name": "stdout",
     "output_type": "stream",
     "text": [
      "Lenght of alpha: 26\n",
      "Enter a word, like HELLO:HELLO\n",
      "Input Shift value, like 3: 3\n",
      "0 H 7\n",
      "1 E 4\n",
      "2 L 11\n",
      "3 L 11\n",
      "4 O 14\n",
      "Plain text:  HELLO\n",
      "Shift Value:  3\n",
      "Cipher text:   KHOOR\n"
     ]
    }
   ],
   "source": [
    " alpha =\"ABCDEFGHIJKLMNOPQRSTUVWXYZ\"\n",
    " print(\"Lenght of alpha: {}\".format(len(alpha)))\n",
    "\n",
    " # input a word and it will change to uppercase\n",
    " str_in = input(\"Enter a word, like HELLO:\").upper()\n",
    "\n",
    " # input a number in integer\n",
    " shift = int(input(\"Input Shift value, like 3: \"))\n",
    "\n",
    " n = len(str_in)\n",
    " msg_cipher = \" \"\n",
    "\n",
    " for i in range(n):\n",
    "  c = str_in[i]\n",
    "  loc = alpha.find(c)\n",
    "  print(i , c, loc) # used to see intermediate result, can be omitted\n",
    "  newloc = (loc+shift) % 26\n",
    "  msg_cipher += alpha[newloc]\n",
    "\n",
    " print(\"Plain text: \", str_in)\n",
    " print(\"Shift Value: \", shift)\n",
    " print(\"Cipher text: \", msg_cipher)"
   ]
  }
 ],
 "metadata": {
  "kernelspec": {
   "display_name": "Python 3 (ipykernel)",
   "language": "python",
   "name": "python3"
  },
  "language_info": {
   "codemirror_mode": {
    "name": "ipython",
    "version": 3
   },
   "file_extension": ".py",
   "mimetype": "text/x-python",
   "name": "python",
   "nbconvert_exporter": "python",
   "pygments_lexer": "ipython3",
   "version": "3.11.4"
  }
 },
 "nbformat": 4,
 "nbformat_minor": 5
}

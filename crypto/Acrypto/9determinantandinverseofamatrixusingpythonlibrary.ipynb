{
 "cells": [
  {
   "cell_type": "code",
   "execution_count": 18,
   "id": "60f08aa7",
   "metadata": {},
   "outputs": [
    {
     "name": "stdout",
     "output_type": "stream",
     "text": [
      "Determinant of a matrix:\n",
      " -939.0\n",
      "Inverse of a matrix:\n",
      " [[-3.19488818e-01  3.33333333e-01 -2.84345048e-01]\n",
      " [ 3.80191693e-01 -3.33333333e-01  2.68370607e-01]\n",
      " [-6.38977636e-03  2.72361878e-18  5.43130990e-02]]\n"
     ]
    }
   ],
   "source": [
    "import numpy as np\n",
    "\n",
    "# Define your matrix as a 2D NumPy array\n",
    "# matrix = np.array([[2, 3, 1],\n",
    "# [4, 1, 7],\n",
    "# [0, 5, 2]])\n",
    "\n",
    "matrix = np.array([[17, 17, 5],\n",
    "                   [21, 18, 21],\n",
    "                   [2, 2, 19]])\n",
    "\n",
    "def determinant_matrix(matrix):\n",
    "    # Calculate the determinant\n",
    "    determinant = np.linalg.det(matrix)\n",
    "    return determinant\n",
    "\n",
    "def inverse_matrix(matrix):\n",
    "    # Use the np.linalg.inv() function to find the inverse\n",
    "    inverse_matrix = np.linalg.inv(matrix)\n",
    "    return inverse_matrix\n",
    "\n",
    "print(\"Determinant of a matrix:\\n\", determinant_matrix(matrix))\n",
    "print(\"Inverse of a matrix:\\n\", inverse_matrix(matrix))\n"
   ]
  },
  {
   "cell_type": "code",
   "execution_count": null,
   "id": "9cc5603b",
   "metadata": {},
   "outputs": [],
   "source": []
  }
 ],
 "metadata": {
  "kernelspec": {
   "display_name": "Python 3 (ipykernel)",
   "language": "python",
   "name": "python3"
  },
  "language_info": {
   "codemirror_mode": {
    "name": "ipython",
    "version": 3
   },
   "file_extension": ".py",
   "mimetype": "text/x-python",
   "name": "python",
   "nbconvert_exporter": "python",
   "pygments_lexer": "ipython3",
   "version": "3.11.4"
  }
 },
 "nbformat": 4,
 "nbformat_minor": 5
}

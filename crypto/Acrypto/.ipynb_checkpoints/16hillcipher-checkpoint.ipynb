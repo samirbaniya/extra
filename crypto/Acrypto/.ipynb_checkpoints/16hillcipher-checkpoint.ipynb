{
 "cells": [
  {
   "cell_type": "code",
   "execution_count": 4,
   "id": "7a33c285",
   "metadata": {},
   "outputs": [
    {
     "name": "stdout",
     "output_type": "stream",
     "text": [
      "Indexing of letters in message:\n",
      "\n",
      "[15, 0, 24, 12, 14, 17, 4, 12, 14, 13, 4, 24]\n",
      "Plain text in numbers:  [15, 0, 24, 12, 14, 17, 4, 12, 14, 13, 4, 24]\n",
      "[17 17 11]\n",
      "[17, 17, 11]\n",
      "[12 22  1]\n",
      "[17, 17, 11, 12, 22, 1]\n",
      "[10  0 18]\n",
      "[17, 17, 11, 12, 22, 1, 10, 0, 18]\n",
      "[15  3  7]\n",
      "[17, 17, 11, 12, 22, 1, 10, 0, 18, 15, 3, 7]\n",
      "Plain text:  paymoremoney\n",
      "Encrypted: RRLMWBKASPDH\n"
     ]
    }
   ],
   "source": [
    "import numpy as np\n",
    "\n",
    "# Define a function to convert a string to a list of numbers\n",
    "def text_to_numbers(text):\n",
    "    text = text.lower().replace(\" \", \"\")\n",
    "    text_to_num = []\n",
    "    for c in text:\n",
    "        loc = alpha.find(c)\n",
    "        text_to_num.append(loc)\n",
    "    return text_to_num\n",
    "\n",
    "# Define a function to convert a list of numbers to a string\n",
    "def numbers_to_text(numbers):\n",
    "    return ''.join([chr(num + ord('a')) for num in numbers])\n",
    "\n",
    "# Define a function for Hill Cipher encryption\n",
    "def hill_cipher_encrypt(plaintext, key_matrix):\n",
    "    plaintext = plaintext.lower().replace(\" \", \"\")\n",
    "    while len(plaintext) % 3 != 0:\n",
    "        plaintext += 'X'  # Padding with 'X' if necessary\n",
    "\n",
    "    plaintext_numbers = text_to_numbers(plaintext)\n",
    "    print(\"Plain text in numbers: \", plaintext_numbers)\n",
    "    encrypted_numbers = []\n",
    "\n",
    "    for i in range(0, len(plaintext_numbers), 3):\n",
    "        block = np.array(plaintext_numbers[i:i+3])\n",
    "        encrypted_block = np.dot(block, key_matrix) % 26\n",
    "        print(encrypted_block)\n",
    "        encrypted_numbers.extend(encrypted_block)\n",
    "        print(encrypted_numbers)\n",
    "\n",
    "    return numbers_to_text(encrypted_numbers)\n",
    "\n",
    "# Define the Hill Cipher key matrix (3x3 matrix)\n",
    "key_matrix = np.array([[17, 17, 5],\n",
    "                      [21, 18, 21],\n",
    "                      [2, 2, 19]])\n",
    "\n",
    "plaintext = \"paymoremoney\"\n",
    "alpha = 'abcdefghijklmnopqrstuvwxyz'\n",
    "\n",
    "text_to_num = text_to_numbers(plaintext)\n",
    "print(\"Indexing of letters in message:\\n\")\n",
    "print(text_to_num)\n",
    "\n",
    "encrypted_text = hill_cipher_encrypt(plaintext, key_matrix)\n",
    "print(\"Plain text: \", plaintext)\n",
    "print(\"Encrypted:\", encrypted_text.upper())\n"
   ]
  }
 ],
 "metadata": {
  "kernelspec": {
   "display_name": "Python 3 (ipykernel)",
   "language": "python",
   "name": "python3"
  },
  "language_info": {
   "codemirror_mode": {
    "name": "ipython",
    "version": 3
   },
   "file_extension": ".py",
   "mimetype": "text/x-python",
   "name": "python",
   "nbconvert_exporter": "python",
   "pygments_lexer": "ipython3",
   "version": "3.11.4"
  }
 },
 "nbformat": 4,
 "nbformat_minor": 5
}

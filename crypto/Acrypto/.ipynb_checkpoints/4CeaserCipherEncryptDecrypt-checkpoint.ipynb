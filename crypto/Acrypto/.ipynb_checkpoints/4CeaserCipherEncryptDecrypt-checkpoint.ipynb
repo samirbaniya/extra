{
 "cells": [
  {
   "cell_type": "code",
   "execution_count": 6,
   "id": "6f621c33",
   "metadata": {},
   "outputs": [
    {
     "name": "stdout",
     "output_type": "stream",
     "text": [
      "Input message: hello\n",
      "Enter a number between 1 and 26: 3\n",
      "Plaintext:  hello\n",
      "Ciphertext:  KHOOR\n",
      "Decrypted text:  HELLO\n"
     ]
    }
   ],
   "source": [
    "alpha = \"ABCDEFGHIJKLMNOPQRSTUVWXYZ\"\n",
    "\n",
    "def contains_only_alphabets(input_str):\n",
    "    for char in input_str:\n",
    "        if not char.isalpha():\n",
    "            return False\n",
    "    return True\n",
    "\n",
    "while True:\n",
    "    try:\n",
    "        msg = input(\"Input message: \")\n",
    "        if contains_only_alphabets(msg):\n",
    "            break\n",
    "        else:\n",
    "            print(\"Input message does not contain alphabets only!!.\")\n",
    "    except ValueError:\n",
    "        print(\"Input is not an alphabetic. Try again!!!\")\n",
    "\n",
    "while True:\n",
    "    try:\n",
    "        key = int(input(\"Enter a number between 1 and 26: \"))\n",
    "        if 1 <= key <= 26:\n",
    "            break\n",
    "        else:\n",
    "            print(\"Input is not between 1 and 26. Try again.\")\n",
    "    except ValueError:\n",
    "        print(\"Input is not an integer. Try again.\")\n",
    "\n",
    "def ceasar_encryption(text, shift):\n",
    "    encrypted_text = ''\n",
    "    text = text.upper()\n",
    "    n = len(text)\n",
    "    for i in range(n):\n",
    "        c = text[i]\n",
    "        loc = alpha.find(c)\n",
    "        newloc = (loc + shift) % 26\n",
    "        encrypted_text += alpha[newloc]\n",
    "    return encrypted_text\n",
    "\n",
    "def ceasar_decryption(encrypted_text, shift):\n",
    "    decrypted_text = ''\n",
    "    n = len(encrypted_text)\n",
    "    for i in range(n):\n",
    "        c = encrypted_text[i]\n",
    "        loc = alpha.find(c)\n",
    "        newloc = (loc - shift) % 26\n",
    "        decrypted_text += alpha[newloc]\n",
    "    return decrypted_text\n",
    "\n",
    "ciphertext = ceasar_encryption(msg, key)\n",
    "decrypted_text = ceasar_decryption(ciphertext, key)\n",
    "print(\"Plaintext: \", msg)\n",
    "print(\"Ciphertext: \", ciphertext)\n",
    "print(\"Decrypted text: \", decrypted_text)\n"
   ]
  }
 ],
 "metadata": {
  "kernelspec": {
   "display_name": "Python 3 (ipykernel)",
   "language": "python",
   "name": "python3"
  },
  "language_info": {
   "codemirror_mode": {
    "name": "ipython",
    "version": 3
   },
   "file_extension": ".py",
   "mimetype": "text/x-python",
   "name": "python",
   "nbconvert_exporter": "python",
   "pygments_lexer": "ipython3",
   "version": "3.11.4"
  }
 },
 "nbformat": 4,
 "nbformat_minor": 5
}

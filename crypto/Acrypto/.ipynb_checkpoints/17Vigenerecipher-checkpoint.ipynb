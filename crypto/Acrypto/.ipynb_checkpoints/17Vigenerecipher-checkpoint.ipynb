{
 "cells": [
  {
   "cell_type": "code",
   "execution_count": 4,
   "id": "5bba8381",
   "metadata": {},
   "outputs": [
    {
     "name": "stdout",
     "output_type": "stream",
     "text": [
      "Input a message: hello\n",
      "Plaintext: hello\n",
      "Encrypted text: RIJVS\n",
      "Decrypted text: HELLO\n"
     ]
    }
   ],
   "source": [
    "def vigenere_encrypt(plaintext, keyword):\n",
    "    plaintext = plaintext.upper()\n",
    "    keyword = keyword.upper()\n",
    "    encrypted_text = []\n",
    "    key_length = len(keyword)\n",
    "\n",
    "    for i in range(len(plaintext)):\n",
    "        if plaintext[i].isalpha():\n",
    "            shift = ord(keyword[i % key_length]) - ord('A')\n",
    "            encrypted_char = chr(((ord(plaintext[i]) - ord('A') + shift) % 26) + ord('A'))\n",
    "            encrypted_text.append(encrypted_char)\n",
    "        else:\n",
    "            encrypted_text.append(plaintext[i])\n",
    "\n",
    "    return ''.join(encrypted_text)\n",
    "\n",
    "\n",
    "def vigenere_decrypt(ciphertext, keyword):\n",
    "    ciphertext = ciphertext.upper()\n",
    "    keyword = keyword.upper()\n",
    "    decrypted_text = []\n",
    "    key_length = len(keyword)\n",
    "\n",
    "    for i in range(len(ciphertext)):\n",
    "        if ciphertext[i].isalpha():\n",
    "            shift = ord(keyword[i % key_length]) - ord('A')\n",
    "            decrypted_char = chr(((ord(ciphertext[i]) - ord('A') - shift + 26) % 26) + ord('A'))\n",
    "            decrypted_text.append(decrypted_char)\n",
    "        else:\n",
    "            decrypted_text.append(ciphertext[i])\n",
    "\n",
    "    return ''.join(decrypted_text)\n",
    "\n",
    "\n",
    "# Example usage\n",
    "plaintext = input(\"Input a message: \")\n",
    "keyword = \"KEY\"  # you can change the key\n",
    "encrypted_text = vigenere_encrypt(plaintext, keyword)\n",
    "decrypted_text = vigenere_decrypt(encrypted_text, keyword)\n",
    "\n",
    "print(\"Plaintext:\", plaintext)\n",
    "print(\"Encrypted text:\", encrypted_text)\n",
    "print(\"Decrypted text:\", decrypted_text)\n"
   ]
  }
 ],
 "metadata": {
  "kernelspec": {
   "display_name": "Python 3 (ipykernel)",
   "language": "python",
   "name": "python3"
  },
  "language_info": {
   "codemirror_mode": {
    "name": "ipython",
    "version": 3
   },
   "file_extension": ".py",
   "mimetype": "text/x-python",
   "name": "python",
   "nbconvert_exporter": "python",
   "pygments_lexer": "ipython3",
   "version": "3.11.4"
  }
 },
 "nbformat": 4,
 "nbformat_minor": 5
}

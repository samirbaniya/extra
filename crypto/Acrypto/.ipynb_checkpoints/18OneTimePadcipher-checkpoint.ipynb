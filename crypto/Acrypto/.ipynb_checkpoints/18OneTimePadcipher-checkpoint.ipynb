{
 "cells": [
  {
   "cell_type": "code",
   "execution_count": 1,
   "id": "c1286497",
   "metadata": {},
   "outputs": [
    {
     "name": "stdout",
     "output_type": "stream",
     "text": [
      "Input a message: hello\n",
      "Plaintext: hello\n",
      "Encrypted text: UBQKA\n",
      "Decrypted text: HELLO\n"
     ]
    }
   ],
   "source": [
    "import random\n",
    "\n",
    "def generate_one_time_pad(length):\n",
    "    \"\"\"Generate a random one-time pad of the specified length.\"\"\"\n",
    "    return [random.randint(0, 25) for _ in range(length)]\n",
    "\n",
    "def otp_encrypt(text, one_time_pad):\n",
    "    \"\"\"Encrypt plaintext using the one-time pad.\"\"\"\n",
    "    if len(text) != len(one_time_pad):\n",
    "        raise ValueError(\"Plaintext and one-time pad must be of the same length\")\n",
    "\n",
    "    encrypted_text = []\n",
    "    for i in range(len(text)):\n",
    "        char = text[i].upper()\n",
    "        if char.isalpha():\n",
    "            shift = one_time_pad[i]\n",
    "            encrypted_char = chr(((ord(char) - ord('A') + shift) % 26) + ord('A'))\n",
    "            encrypted_text.append(encrypted_char)\n",
    "        else:\n",
    "            encrypted_text.append(char)\n",
    "\n",
    "    return ''.join(encrypted_text)\n",
    "\n",
    "def otp_decrypt(ciphertext, one_time_pad):\n",
    "    \"\"\"Decrypt ciphertext using the one-time pad.\"\"\"\n",
    "    if len(ciphertext) != len(one_time_pad):\n",
    "        raise ValueError(\"Ciphertext and one-time pad must be of the same length\")\n",
    "\n",
    "    decrypted_text = []\n",
    "    for i in range(len(ciphertext)):\n",
    "        char = ciphertext[i].upper()\n",
    "        if char.isalpha():\n",
    "            shift = one_time_pad[i]\n",
    "            decrypted_char = chr(((ord(char) - ord('A') - shift + 26) % 26) + ord('A'))\n",
    "            decrypted_text.append(decrypted_char)\n",
    "        else:\n",
    "            decrypted_text.append(char)\n",
    "\n",
    "    return ''.join(decrypted_text)\n",
    "\n",
    "# Example usage\n",
    "plaintext = input(\"Input a message: \")\n",
    "one_time_pad = generate_one_time_pad(len(plaintext))\n",
    "encrypted_text = otp_encrypt(plaintext, one_time_pad)\n",
    "decrypted_text = otp_decrypt(encrypted_text, one_time_pad)\n",
    "\n",
    "print(\"Plaintext:\", plaintext)\n",
    "print(\"Encrypted text:\", encrypted_text)\n",
    "print(\"Decrypted text:\", decrypted_text)\n"
   ]
  }
 ],
 "metadata": {
  "kernelspec": {
   "display_name": "Python 3 (ipykernel)",
   "language": "python",
   "name": "python3"
  },
  "language_info": {
   "codemirror_mode": {
    "name": "ipython",
    "version": 3
   },
   "file_extension": ".py",
   "mimetype": "text/x-python",
   "name": "python",
   "nbconvert_exporter": "python",
   "pygments_lexer": "ipython3",
   "version": "3.11.4"
  }
 },
 "nbformat": 4,
 "nbformat_minor": 5
}

{
 "cells": [
  {
   "cell_type": "code",
   "execution_count": 1,
   "id": "6868907d",
   "metadata": {},
   "outputs": [
    {
     "name": "stdout",
     "output_type": "stream",
     "text": [
      "Input a message: hello\n",
      "Original Text: hello\n",
      "Cipher Text: khoor\n",
      "Decrypted Text: hello\n"
     ]
    }
   ],
   "source": [
    "def caesar_encrypt(text, shift):\n",
    "    encrypted_text = \"\"\n",
    "    for char in text:\n",
    "        if char.isalpha():\n",
    "            is_upper = char.isupper()\n",
    "            char = char.lower()\n",
    "            char_code = ord(char)  # return Unicode of character\n",
    "            encrypted_char = chr(((char_code - 97 + shift) % 26) + 97)\n",
    "            if is_upper:\n",
    "                encrypted_char = encrypted_char.upper()\n",
    "            encrypted_text += encrypted_char\n",
    "        else:\n",
    "            encrypted_text += char\n",
    "    return encrypted_text\n",
    "\n",
    "def caesar_decrypt(encrypted_text, shift):\n",
    "    decrypted_text = \"\"\n",
    "    for char in encrypted_text:\n",
    "        if char.isalpha():\n",
    "            is_upper = char.isupper()\n",
    "            char = char.lower()\n",
    "            char_code = ord(char)\n",
    "            decrypted_char = chr(((char_code - 97 - shift) % 26) + 97)\n",
    "            if is_upper:\n",
    "                decrypted_char = decrypted_char.upper()\n",
    "            decrypted_text += decrypted_char\n",
    "        else:\n",
    "            decrypted_text += char\n",
    "    return decrypted_text\n",
    "\n",
    "# Example usage:\n",
    "plaintext = input(\"Input a message: \")\n",
    "shift = 3  # change this value (1-26)\n",
    "encrypted_text = caesar_encrypt(plaintext, shift)\n",
    "decrypted_text = caesar_decrypt(encrypted_text, shift)\n",
    "\n",
    "print(\"Original Text:\", plaintext)\n",
    "print(\"Cipher Text:\", encrypted_text)\n",
    "print(\"Decrypted Text:\", decrypted_text)\n"
   ]
  }
 ],
 "metadata": {
  "kernelspec": {
   "display_name": "Python 3 (ipykernel)",
   "language": "python",
   "name": "python3"
  },
  "language_info": {
   "codemirror_mode": {
    "name": "ipython",
    "version": 3
   },
   "file_extension": ".py",
   "mimetype": "text/x-python",
   "name": "python",
   "nbconvert_exporter": "python",
   "pygments_lexer": "ipython3",
   "version": "3.11.4"
  }
 },
 "nbformat": 4,
 "nbformat_minor": 5
}

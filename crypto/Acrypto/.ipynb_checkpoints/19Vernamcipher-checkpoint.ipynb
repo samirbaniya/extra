{
 "cells": [
  {
   "cell_type": "code",
   "execution_count": 1,
   "id": "9eb0e377",
   "metadata": {},
   "outputs": [
    {
     "name": "stdout",
     "output_type": "stream",
     "text": [
      "Original Message: Hello World!\n",
      "length of message:  12\n",
      "Key:  000001011000111100111111110110100000101101001101110010001111000100101001001001101010010010010101\n",
      "Cipher text (in bits): 010011011110101001010011101101100110010001101101100111111001111001011011010010101100000010110100\n",
      "Length of key:  96\n",
      "Length of encrypted message:  96\n",
      "Decrypted text: Hello World!\n"
     ]
    }
   ],
   "source": [
    "import random\n",
    "\n",
    "def generate_random_key(message_length):\n",
    "    # Generate a random key of 0s and 1s of the same length as the message\n",
    "    return [random.randint(0, 1) for _ in range(message_length)]\n",
    "\n",
    "def encrypt(plaintext, key):\n",
    "    # Ensure the key and plaintext have the same length\n",
    "    if len(plaintext) != len(key):\n",
    "        raise ValueError(\"Key length must match the plaintext length\")\n",
    "\n",
    "    # Perform bitwise XOR to encrypt the plaintext\n",
    "    ciphertext = [str(int(plaintext[i]) ^ key[i]) for i in range(len(plaintext))]\n",
    "\n",
    "    # Convert the list of bits back to a string\n",
    "    return ''.join(ciphertext)\n",
    "\n",
    "def decrypt(ciphertext, key):\n",
    "    # Ensure the key and ciphertext have the same length\n",
    "    if len(ciphertext) != len(key):\n",
    "        raise ValueError(\"Key length must match the ciphertext length\")\n",
    "\n",
    "    # Perform bitwise XOR to decrypt the ciphertext\n",
    "    plaintext = [str(int(ciphertext[i]) ^ key[i]) for i in range(len(ciphertext))]\n",
    "\n",
    "    # Convert the list of bits back to a string\n",
    "    return ''.join(plaintext)\n",
    "\n",
    "# Example usage\n",
    "message = \"Hello World!\"\n",
    "message_bits = [int(bit) for bit in ''.join(format(ord(char), '08b') for char in message)]  # Convert message to bits\n",
    "key = generate_random_key(len(message_bits))  # Generate a random key\n",
    "\n",
    "key_stream = ''.join(str(bit) for bit in key)\n",
    "\n",
    "ciphertext = encrypt(message_bits, key)\n",
    "decrypted_message_bits = decrypt(ciphertext, key)\n",
    "\n",
    "# Convert the decrypted bits back to a string\n",
    "decrypted_message = ''.join(chr(int(decrypted_message_bits[i:i+8], 2)) for i in range(0, len(decrypted_message_bits), 8))\n",
    "\n",
    "print(\"Original Message:\", message)\n",
    "print(\"length of message: \", len(message))\n",
    "print(\"Key: \", key_stream)\n",
    "print(\"Cipher text (in bits):\", ''.join(map(str, ciphertext)))\n",
    "print(\"Length of key: \", len(key))\n",
    "print(\"Length of encrypted message: \", len(ciphertext))\n",
    "print(\"Decrypted text:\", decrypted_message)\n"
   ]
  }
 ],
 "metadata": {
  "kernelspec": {
   "display_name": "Python 3 (ipykernel)",
   "language": "python",
   "name": "python3"
  },
  "language_info": {
   "codemirror_mode": {
    "name": "ipython",
    "version": 3
   },
   "file_extension": ".py",
   "mimetype": "text/x-python",
   "name": "python",
   "nbconvert_exporter": "python",
   "pygments_lexer": "ipython3",
   "version": "3.11.4"
  }
 },
 "nbformat": 4,
 "nbformat_minor": 5
}

{
 "cells": [
  {
   "cell_type": "code",
   "execution_count": 3,
   "id": "9397fa36",
   "metadata": {},
   "outputs": [
    {
     "name": "stdout",
     "output_type": "stream",
     "text": [
      "Requirement already satisfied: Pillow in c:\\users\\samir dosti\\anaconda3\\lib\\site-packages (9.4.0)Note: you may need to restart the kernel to use updated packages.\n",
      "\n"
     ]
    }
   ],
   "source": [
    "pip install Pillow"
   ]
  },
  {
   "cell_type": "code",
   "execution_count": 18,
   "id": "58d1ba59",
   "metadata": {},
   "outputs": [],
   "source": [
    "from PIL import Image\n",
    "\n",
    "def convert_to_grayscale(input_path, output_path):\n",
    "    # Open the image\n",
    "    image = Image.open(input_path)\n",
    "\n",
    "    # Convert the image to grayscale\n",
    "    grayscale_image = image.convert(\"L\")\n",
    "\n",
    "    # Save the grayscale image\n",
    "    grayscale_image.save(output_path)\n",
    "\n",
    "# Example usage\n",
    "input_image_path = \"lenna.jpg\"  # Replace with your input image path\n",
    "output_image_path = \"output_grayscale_image.jpg\"  # Replace with the desired output path\n",
    "\n",
    "convert_to_grayscale(input_image_path, output_image_path)"
   ]
  },
  {
   "cell_type": "code",
   "execution_count": null,
   "id": "e906705d",
   "metadata": {},
   "outputs": [],
   "source": []
  }
 ],
 "metadata": {
  "kernelspec": {
   "display_name": "Python 3 (ipykernel)",
   "language": "python",
   "name": "python3"
  },
  "language_info": {
   "codemirror_mode": {
    "name": "ipython",
    "version": 3
   },
   "file_extension": ".py",
   "mimetype": "text/x-python",
   "name": "python",
   "nbconvert_exporter": "python",
   "pygments_lexer": "ipython3",
   "version": "3.11.4"
  }
 },
 "nbformat": 4,
 "nbformat_minor": 5
}

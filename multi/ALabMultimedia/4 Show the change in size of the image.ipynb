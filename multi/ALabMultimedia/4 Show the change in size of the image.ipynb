{
 "cells": [
  {
   "cell_type": "code",
   "execution_count": 3,
   "id": "1667f94f",
   "metadata": {},
   "outputs": [
    {
     "name": "stdout",
     "output_type": "stream",
     "text": [
      "Requirement already satisfied: pillow in c:\\users\\samir dosti\\anaconda3\\lib\\site-packages (9.4.0)\n",
      "Note: you may need to restart the kernel to use updated packages.\n"
     ]
    }
   ],
   "source": [
    "pip install pillow"
   ]
  },
  {
   "cell_type": "code",
   "execution_count": 4,
   "id": "3f79c636",
   "metadata": {},
   "outputs": [
    {
     "name": "stdout",
     "output_type": "stream",
     "text": [
      "JPG size: 8026 bytes\n",
      "PNG size: 83093 bytes\n",
      "TIF size: 152015 bytes\n",
      "Actual JPG size: 8026 bytes\n"
     ]
    }
   ],
   "source": [
    "from PIL import Image\n",
    "import os\n",
    "\n",
    "# get the file sizes\n",
    "jpg_size = os.path.getsize('lenna.jpg')\n",
    "png_size = os.path.getsize('lenna.png')\n",
    "tif_size = os.path.getsize('lenna.tif')\n",
    "\n",
    "# display the file sizes\n",
    "print(\"JPG size: {} bytes\".format(jpg_size))\n",
    "print(\"PNG size: {} bytes\".format(png_size))\n",
    "print(\"TIF size: {} bytes\".format(tif_size))\n",
    "\n",
    "# display the actual size of jpg without using any library\n",
    "with open('lenna.jpg', 'rb') as f:\n",
    "    data = f.read()\n",
    "    jpg_actual_size = len(data)\n",
    "    print(\"Actual JPG size: {} bytes\".format(jpg_actual_size))"
   ]
  }
 ],
 "metadata": {
  "kernelspec": {
   "display_name": "Python 3 (ipykernel)",
   "language": "python",
   "name": "python3"
  },
  "language_info": {
   "codemirror_mode": {
    "name": "ipython",
    "version": 3
   },
   "file_extension": ".py",
   "mimetype": "text/x-python",
   "name": "python",
   "nbconvert_exporter": "python",
   "pygments_lexer": "ipython3",
   "version": "3.11.4"
  }
 },
 "nbformat": 4,
 "nbformat_minor": 5
}
